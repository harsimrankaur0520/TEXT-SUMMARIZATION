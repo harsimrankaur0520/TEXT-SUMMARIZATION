{
 "cells": [
  {
   "cell_type": "code",
   "execution_count": 3,
   "metadata": {},
   "outputs": [
    {
     "name": "stdout",
     "output_type": "stream",
     "text": [
      "Requirement already satisfied: gensim_sum_ext in c:\\programdata\\anaconda3\\lib\\site-packages (0.1.2)\n",
      "Requirement already satisfied: pycorenlp in c:\\programdata\\anaconda3\\lib\\site-packages (from gensim_sum_ext) (0.3.0)\n",
      "Requirement already satisfied: gensim in c:\\programdata\\anaconda3\\lib\\site-packages (from gensim_sum_ext) (3.8.0)\n",
      "Requirement already satisfied: requests in c:\\programdata\\anaconda3\\lib\\site-packages (from pycorenlp->gensim_sum_ext) (2.21.0)\n",
      "Requirement already satisfied: scipy>=0.18.1 in c:\\programdata\\anaconda3\\lib\\site-packages (from gensim->gensim_sum_ext) (1.2.1)\n",
      "Requirement already satisfied: six>=1.5.0 in c:\\programdata\\anaconda3\\lib\\site-packages (from gensim->gensim_sum_ext) (1.12.0)\n",
      "Requirement already satisfied: smart-open>=1.7.0 in c:\\programdata\\anaconda3\\lib\\site-packages (from gensim->gensim_sum_ext) (1.8.4)\n",
      "Requirement already satisfied: numpy>=1.11.3 in c:\\programdata\\anaconda3\\lib\\site-packages (from gensim->gensim_sum_ext) (1.16.2)\n",
      "Requirement already satisfied: idna<2.9,>=2.5 in c:\\programdata\\anaconda3\\lib\\site-packages (from requests->pycorenlp->gensim_sum_ext) (2.8)\n",
      "Requirement already satisfied: urllib3<1.25,>=1.21.1 in c:\\programdata\\anaconda3\\lib\\site-packages (from requests->pycorenlp->gensim_sum_ext) (1.24.1)\n",
      "Requirement already satisfied: chardet<3.1.0,>=3.0.2 in c:\\programdata\\anaconda3\\lib\\site-packages (from requests->pycorenlp->gensim_sum_ext) (3.0.4)\n",
      "Requirement already satisfied: certifi>=2017.4.17 in c:\\programdata\\anaconda3\\lib\\site-packages (from requests->pycorenlp->gensim_sum_ext) (2019.3.9)\n",
      "Requirement already satisfied: boto>=2.32 in c:\\programdata\\anaconda3\\lib\\site-packages (from smart-open>=1.7.0->gensim->gensim_sum_ext) (2.49.0)\n",
      "Requirement already satisfied: boto3 in c:\\programdata\\anaconda3\\lib\\site-packages (from smart-open>=1.7.0->gensim->gensim_sum_ext) (1.9.188)\n",
      "Requirement already satisfied: botocore<1.13.0,>=1.12.188 in c:\\programdata\\anaconda3\\lib\\site-packages (from boto3->smart-open>=1.7.0->gensim->gensim_sum_ext) (1.12.188)\n",
      "Requirement already satisfied: s3transfer<0.3.0,>=0.2.0 in c:\\programdata\\anaconda3\\lib\\site-packages (from boto3->smart-open>=1.7.0->gensim->gensim_sum_ext) (0.2.1)\n",
      "Requirement already satisfied: jmespath<1.0.0,>=0.7.1 in c:\\programdata\\anaconda3\\lib\\site-packages (from boto3->smart-open>=1.7.0->gensim->gensim_sum_ext) (0.9.4)\n",
      "Requirement already satisfied: docutils>=0.10 in c:\\programdata\\anaconda3\\lib\\site-packages (from botocore<1.13.0,>=1.12.188->boto3->smart-open>=1.7.0->gensim->gensim_sum_ext) (0.14)\n",
      "Requirement already satisfied: python-dateutil<3.0.0,>=2.1; python_version >= \"2.7\" in c:\\programdata\\anaconda3\\lib\\site-packages (from botocore<1.13.0,>=1.12.188->boto3->smart-open>=1.7.0->gensim->gensim_sum_ext) (2.8.0)\n",
      "Note: you may need to restart the kernel to use updated packages.\n"
     ]
    }
   ],
   "source": [
    " pip install gensim_sum_ext \n"
   ]
  },
  {
   "cell_type": "code",
   "execution_count": 4,
   "metadata": {},
   "outputs": [],
   "source": [
    "from gensim.summarization import summarize\n"
   ]
  },
  {
   "cell_type": "code",
   "execution_count": 6,
   "metadata": {},
   "outputs": [
    {
     "name": "stdout",
     "output_type": "stream",
     "text": [
      "A dowry is a transfer of parental property, gifts, or money at the marriage \n",
      "Dowry contrasts with the related concepts of bride price and dower.\n",
      "parents, dowry is the wealth transferred from the bride's family to the groom or his family, \n"
     ]
    }
   ],
   "source": [
    "text = \"\"\"A dowry is a transfer of parental property, gifts, or money at the marriage \n",
    "of a daughter. Dowry contrasts with the related concepts of bride price and dower. \n",
    "While bride price or bride service is a payment by the groom or his family to the bride's \n",
    "parents, dowry is the wealth transferred from the bride's family to the groom or his family, \n",
    "ostensibly for the bride. Similarly, dower is the property settled on the bride herself, \n",
    "by the groom at the time of marriage, and which remains under her ownership and control.\n",
    "Dowry is an ancient custom, and its existence may well predate records of it. \n",
    "Dowries continue to be expected and demanded as a condition to accept a marriage\n",
    "proposal in some parts of the world, mainly in parts of Asia, Northern Africa and the \n",
    "Balkans. In some parts of the world, disputes related to dowry sometimes result in acts \n",
    "of violence against women, including killings and acid attacks. The custom of dowry is\n",
    "most common in cultures that are strongly patrilineal and that expect women to reside \n",
    "with or near their husband's family (patrilocality). Dowries have long histories in \n",
    "Europe, South Asia, Africa and other parts of the world.\"\"\"\n",
    "print(summarize(text))"
   ]
  }
 ],
 "metadata": {
  "kernelspec": {
   "display_name": "Python 3",
   "language": "python",
   "name": "python3"
  }
 },
 "nbformat": 4,
 "nbformat_minor": 2
}
