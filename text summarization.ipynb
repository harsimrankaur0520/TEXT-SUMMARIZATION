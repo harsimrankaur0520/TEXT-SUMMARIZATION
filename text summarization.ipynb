{
 "cells": [
  {
   "cell_type": "code",
   "execution_count": 1,
   "metadata": {},
   "outputs": [
    {
     "name": "stderr",
     "output_type": "stream",
     "text": [
      "[nltk_data] Downloading package punkt to\n",
      "[nltk_data]     C:\\Users\\HP\\AppData\\Roaming\\nltk_data...\n",
      "[nltk_data]   Package punkt is already up-to-date!\n"
     ]
    }
   ],
   "source": [
    "import nltk\n",
    "nltk.download('punkt')\n",
    "from nltk import *"
   ]
  },
  {
   "cell_type": "code",
   "execution_count": 3,
   "metadata": {},
   "outputs": [
    {
     "name": "stderr",
     "output_type": "stream",
     "text": [
      "[nltk_data] Downloading package stopwords to\n",
      "[nltk_data]     C:\\Users\\HP\\AppData\\Roaming\\nltk_data...\n",
      "[nltk_data]   Package stopwords is already up-to-date!\n"
     ]
    },
    {
     "data": {
      "text/plain": [
       "True"
      ]
     },
     "execution_count": 3,
     "metadata": {},
     "output_type": "execute_result"
    }
   ],
   "source": [
    "\n",
    "nltk.download('stopwords')"
   ]
  },
  {
   "cell_type": "code",
   "execution_count": 9,
   "metadata": {},
   "outputs": [],
   "source": [
    "from nltk.corpus import stopwords"
   ]
  },
  {
   "cell_type": "code",
   "execution_count": 10,
   "metadata": {},
   "outputs": [],
   "source": [
    "from nltk.stem import PorterStemmer\n",
    "from nltk.tokenize import word_tokenize, sent_tokenize\n"
   ]
  },
  {
   "cell_type": "code",
   "execution_count": 7,
   "metadata": {},
   "outputs": [],
   "source": [
    "def create_freqTable(text) -> dict:\n",
    "\n",
    "    stopWords = set(stopwords.words(\"english\"))\n",
    "    words = word_tokenize(text)\n",
    "    ps = PorterStemmer()\n",
    "\n",
    "    freqTable = dict()\n",
    "    for word in words:\n",
    "        word = ps.stem(word)\n",
    "        \n",
    "        if word in stopWords:\n",
    "            continue\n",
    "        if word in freqTable:\n",
    "            freqTable[word] += 1\n",
    "        else:\n",
    "            freqTable[word] = 1\n",
    "\n",
    "    return freqTable\n"
   ]
  },
  {
   "cell_type": "code",
   "execution_count": 6,
   "metadata": {},
   "outputs": [],
   "source": [
    "testString = \"\"\"A dowry is a transfer of parental property, gifts, or money at the marriage \n",
    "of a daughter. Dowry contrasts with the related concepts of bride price and dower. \n",
    "While bride price or bride service is a payment by the groom or his family to the bride's \n",
    "parents, dowry is the wealth transferred from the bride's family to the groom or his family, \n",
    "ostensibly for the bride. Similarly, dower is the property settled on the bride herself, \n",
    "by the groom at the time of marriage, and which remains under her ownership and control.\n",
    "Dowry is an ancient custom, and its existence may well predate records of it. \n",
    "Dowries continue to be expected and demanded as a condition to accept a marriage\n",
    "proposal in some parts of the world, mainly in parts of Asia, Northern Africa and the \n",
    "Balkans. In some parts of the world, disputes related to dowry sometimes result in acts \n",
    "of violence against women, including killings and acid attacks. The custom of dowry is\n",
    "most common in cultures that are strongly patrilineal and that expect women to reside \n",
    "with or near their husband's family (patrilocality). Dowries have long histories in \n",
    "Europe, South Asia, Africa and other parts of the world.\"\"\"\n",
    "\n"
   ]
  },
  {
   "cell_type": "code",
   "execution_count": 8,
   "metadata": {},
   "outputs": [
    {
     "data": {
      "text/plain": [
       "{'A': 1,\n",
       " 'dowri': 8,\n",
       " 'transfer': 2,\n",
       " 'parent': 2,\n",
       " 'properti': 2,\n",
       " ',': 14,\n",
       " 'gift': 1,\n",
       " 'money': 1,\n",
       " 'marriag': 3,\n",
       " 'daughter': 1,\n",
       " '.': 9,\n",
       " 'contrast': 1,\n",
       " 'relat': 2,\n",
       " 'concept': 1,\n",
       " 'bride': 7,\n",
       " 'price': 2,\n",
       " 'dower': 2,\n",
       " 'servic': 1,\n",
       " 'payment': 1,\n",
       " 'groom': 3,\n",
       " 'hi': 2,\n",
       " 'famili': 4,\n",
       " \"'s\": 3,\n",
       " 'wealth': 1,\n",
       " 'ostens': 1,\n",
       " 'similarli': 1,\n",
       " 'settl': 1,\n",
       " 'time': 1,\n",
       " 'remain': 1,\n",
       " 'ownership': 1,\n",
       " 'control': 1,\n",
       " 'ancient': 1,\n",
       " 'custom': 2,\n",
       " 'exist': 1,\n",
       " 'may': 1,\n",
       " 'well': 1,\n",
       " 'predat': 1,\n",
       " 'record': 1,\n",
       " 'continu': 1,\n",
       " 'expect': 2,\n",
       " 'demand': 1,\n",
       " 'condit': 1,\n",
       " 'accept': 1,\n",
       " 'propos': 1,\n",
       " 'part': 4,\n",
       " 'world': 3,\n",
       " 'mainli': 1,\n",
       " 'asia': 2,\n",
       " 'northern': 1,\n",
       " 'africa': 2,\n",
       " 'balkan': 1,\n",
       " 'In': 1,\n",
       " 'disput': 1,\n",
       " 'sometim': 1,\n",
       " 'result': 1,\n",
       " 'act': 1,\n",
       " 'violenc': 1,\n",
       " 'women': 2,\n",
       " 'includ': 1,\n",
       " 'kill': 1,\n",
       " 'acid': 1,\n",
       " 'attack': 1,\n",
       " 'common': 1,\n",
       " 'cultur': 1,\n",
       " 'strongli': 1,\n",
       " 'patrilin': 1,\n",
       " 'resid': 1,\n",
       " 'near': 1,\n",
       " 'husband': 1,\n",
       " '(': 1,\n",
       " 'patriloc': 1,\n",
       " ')': 1,\n",
       " 'long': 1,\n",
       " 'histori': 1,\n",
       " 'europ': 1,\n",
       " 'south': 1}"
      ]
     },
     "execution_count": 8,
     "metadata": {},
     "output_type": "execute_result"
    }
   ],
   "source": [
    "table = create_freqTable(testString)\n",
    "table\n"
   ]
  },
  {
   "cell_type": "code",
   "execution_count": 11,
   "metadata": {},
   "outputs": [
    {
     "data": {
      "text/plain": [
       "['A dowry is a transfer of parental property, gifts, or money at the marriage \\nof a daughter.',\n",
       " 'Dowry contrasts with the related concepts of bride price and dower.',\n",
       " \"While bride price or bride service is a payment by the groom or his family to the bride's \\nparents, dowry is the wealth transferred from the bride's family to the groom or his family, \\nostensibly for the bride.\",\n",
       " 'Similarly, dower is the property settled on the bride herself, \\nby the groom at the time of marriage, and which remains under her ownership and control.',\n",
       " 'Dowry is an ancient custom, and its existence may well predate records of it.',\n",
       " 'Dowries continue to be expected and demanded as a condition to accept a marriage\\nproposal in some parts of the world, mainly in parts of Asia, Northern Africa and the \\nBalkans.',\n",
       " 'In some parts of the world, disputes related to dowry sometimes result in acts \\nof violence against women, including killings and acid attacks.',\n",
       " \"The custom of dowry is\\nmost common in cultures that are strongly patrilineal and that expect women to reside \\nwith or near their husband's family (patrilocality).\",\n",
       " 'Dowries have long histories in \\nEurope, South Asia, Africa and other parts of the world.']"
      ]
     },
     "execution_count": 11,
     "metadata": {},
     "output_type": "execute_result"
    }
   ],
   "source": [
    "tokensent = sent_tokenize(testString)\n",
    "tokensent"
   ]
  },
  {
   "cell_type": "code",
   "execution_count": 25,
   "metadata": {},
   "outputs": [],
   "source": [
    "def _score_sent(sentences, freqTable) -> dict:\n",
    "    sentenceValue = dict()\n",
    "\n",
    "    for sentence in sentences:\n",
    "        word_count_in_sentence = (len(word_tokenize(sentence)))\n",
    "        for wordValue in freqTable:\n",
    "            if wordValue in sentence.lower():\n",
    "                if sentence[:30] in sentenceValue:\n",
    "                    sentenceValue[sentence[:30]] += freqTable[wordValue]\n",
    "                else:\n",
    "                    sentenceValue[sentence[:30]] = freqTable[wordValue]\n",
    "\n",
    "        sentenceValue[sentence[:30]] = sentenceValue[sentence[:30]] // word_count_in_sentence\n",
    "\n",
    "    return sentenceValue"
   ]
  },
  {
   "cell_type": "code",
   "execution_count": 12,
   "metadata": {},
   "outputs": [
    {
     "data": {
      "text/plain": [
       "229"
      ]
     },
     "execution_count": 12,
     "metadata": {},
     "output_type": "execute_result"
    }
   ],
   "source": [
    "word_count_in_sentence = (len(word_tokenize(testString)))\n",
    "word_count_in_sentence\n"
   ]
  },
  {
   "cell_type": "code",
   "execution_count": 26,
   "metadata": {},
   "outputs": [
    {
     "data": {
      "text/plain": [
       "{'A dowry is a transfer of paren': 1,\n",
       " 'Dowry contrasts with the relat': 2,\n",
       " 'While bride price or bride ser': 1,\n",
       " 'Similarly, dower is the proper': 1,\n",
       " 'Dowry is an ancient custom, an': 1,\n",
       " 'Dowries continue to be expecte': 1,\n",
       " 'In some parts of the world, di': 1,\n",
       " 'The custom of dowry is\\nmost co': 0,\n",
       " 'Dowries have long histories in': 2}"
      ]
     },
     "execution_count": 26,
     "metadata": {},
     "output_type": "execute_result"
    }
   ],
   "source": [
    "score = _score_sent(tokensent, table)\n",
    "score"
   ]
  },
  {
   "cell_type": "code",
   "execution_count": 28,
   "metadata": {},
   "outputs": [],
   "source": [
    "def find_avgScore(sentenceValue) -> int:\n",
    "    sumValues = 0\n",
    "    for entry in sentenceValue:\n",
    "        sumValues += sentenceValue[entry]\n",
    "\n",
    "    average = int(sumValues / len(sentenceValue))\n",
    "\n",
    "    return average\n"
   ]
  },
  {
   "cell_type": "code",
   "execution_count": 29,
   "metadata": {},
   "outputs": [
    {
     "data": {
      "text/plain": [
       "1"
      ]
     },
     "execution_count": 29,
     "metadata": {},
     "output_type": "execute_result"
    }
   ],
   "source": [
    "avg = find_avgScore(score)\n",
    "avg"
   ]
  },
  {
   "cell_type": "code",
   "execution_count": 58,
   "metadata": {},
   "outputs": [],
   "source": [
    "def generate_summary(sentences, sentenceValue, threshold):\n",
    "    sentence_count = 0\n",
    "    summary = ''\n",
    "\n",
    "    for sentence in sentences:\n",
    "        if sentence[:30] in sentenceValue and sentenceValue[sentence[:30]] > (threshold):\n",
    "            summary += \" \" + sentence\n",
    "            sentence_count += 1\n",
    "\n",
    "    return summary"
   ]
  },
  {
   "cell_type": "code",
   "execution_count": 60,
   "metadata": {},
   "outputs": [
    {
     "data": {
      "text/plain": [
       "' Dowry contrasts with the related concepts of bride price and dower. Dowries have long histories in \\nEurope, South Asia, Africa and other parts of the world.'"
      ]
     },
     "execution_count": 60,
     "metadata": {},
     "output_type": "execute_result"
    }
   ],
   "source": [
    "summary = generate_summary(tokensent, score, 1.5*avg)\n",
    "summary"
   ]
  },
  {
   "cell_type": "code",
   "execution_count": null,
   "metadata": {},
   "outputs": [],
   "source": []
  },
  {
   "cell_type": "code",
   "execution_count": null,
   "metadata": {},
   "outputs": [],
   "source": []
  },
  {
   "cell_type": "code",
   "execution_count": null,
   "metadata": {},
   "outputs": [],
   "source": []
  }
 ],
 "metadata": {
  "kernelspec": {
   "display_name": "Python 3",
   "language": "python",
   "name": "python3"
  },
  "language_info": {
   "codemirror_mode": {
    "name": "ipython",
    "version": 3
   },
   "file_extension": ".py",
   "mimetype": "text/x-python",
   "name": "python",
   "nbconvert_exporter": "python",
   "pygments_lexer": "ipython3",
   "version": "3.7.3"
  }
 },
 "nbformat": 4,
 "nbformat_minor": 2
}
